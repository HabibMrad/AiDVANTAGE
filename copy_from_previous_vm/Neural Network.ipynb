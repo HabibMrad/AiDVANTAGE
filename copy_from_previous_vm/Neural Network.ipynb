{
 "cells": [
  {
   "cell_type": "code",
   "execution_count": 1,
   "metadata": {},
   "outputs": [],
   "source": [
    "import pandas as pd\n",
    "import numpy as np"
   ]
  },
  {
   "cell_type": "code",
   "execution_count": 2,
   "metadata": {},
   "outputs": [],
   "source": [
    "df = pd.read_csv('post_dataframe.csv', index_col='Unnamed: 0')"
   ]
  },
  {
   "cell_type": "code",
   "execution_count": 3,
   "metadata": {},
   "outputs": [],
   "source": [
    "df_d = df['Диагноз'].values\n",
    "for i in range(len(df_d)):\n",
    "    if df_d[i] == 2:\n",
    "        df_d[i] = 1\n",
    "df['Диагноз'] = df_d[:]"
   ]
  },
  {
   "cell_type": "code",
   "execution_count": 4,
   "metadata": {},
   "outputs": [],
   "source": [
    "df_train = df[:]\n",
    "df_test = df[:]"
   ]
  },
  {
   "cell_type": "code",
   "execution_count": 5,
   "metadata": {},
   "outputs": [
    {
     "name": "stdout",
     "output_type": "stream",
     "text": [
      "232\n"
     ]
    }
   ],
   "source": [
    "TRAIN_TEST_RATIO = 0.65\n",
    "train_number = round(df.shape[0] * TRAIN_TEST_RATIO)\n",
    "print(train_number)\n",
    "\n",
    "# train\n",
    "X_train = df_train.drop(['Диагноз'], axis=1).iloc[:train_number]\n",
    "y_train = df_train['Диагноз'].iloc[:train_number].values\n",
    "\n",
    "# test\n",
    "X_test = df_test.drop(['Диагноз'], axis=1).iloc[train_number:]\n",
    "y_test = df_test['Диагноз'].iloc[train_number:].values"
   ]
  },
  {
   "cell_type": "code",
   "execution_count": 6,
   "metadata": {},
   "outputs": [],
   "source": [
    "from sklearn.ensemble import RandomForestRegressor\n",
    "from sklearn.naive_bayes import BernoulliNB"
   ]
  },
  {
   "cell_type": "code",
   "execution_count": 7,
   "metadata": {
    "scrolled": false
   },
   "outputs": [
    {
     "name": "stderr",
     "output_type": "stream",
     "text": [
      "/home/kaktus2/anaconda3/lib/python3.7/site-packages/sklearn/ensemble/forest.py:246: FutureWarning: The default value of n_estimators will change from 10 in version 0.20 to 100 in 0.22.\n",
      "  \"10 in version 0.20 to 100 in 0.22.\", FutureWarning)\n"
     ]
    }
   ],
   "source": [
    "random_forest = RandomForestRegressor().fit(X_train, y_train)\n",
    "bernoulli = BernoulliNB().fit(X_train, y_train)"
   ]
  },
  {
   "cell_type": "code",
   "execution_count": 8,
   "metadata": {},
   "outputs": [
    {
     "name": "stdout",
     "output_type": "stream",
     "text": [
      "\n",
      "Random Forest Regressor:\n",
      "Train: 0.8699292149292149\n",
      "Test: 0.2675576519916144\n"
     ]
    }
   ],
   "source": [
    "print(\"\\nRandom Forest Regressor:\\nTrain: {}\".format(random_forest.score(X_train, y_train)))\n",
    "print(\"Test: {}\".format(random_forest.score(X_test, y_test)))"
   ]
  },
  {
   "cell_type": "code",
   "execution_count": 9,
   "metadata": {},
   "outputs": [
    {
     "name": "stdout",
     "output_type": "stream",
     "text": [
      "\n",
      "Naive Baies:\n",
      "Train: 0.8232758620689655\n",
      "Test: 0.8\n"
     ]
    }
   ],
   "source": [
    "print(\"\\nNaive Baies:\\nTrain: {}\".format(bernoulli.score(X_train, y_train)))\n",
    "print(\"Test: {}\".format(bernoulli.score(X_test, y_test)))"
   ]
  },
  {
   "cell_type": "code",
   "execution_count": 10,
   "metadata": {
    "scrolled": true
   },
   "outputs": [
    {
     "data": {
      "text/plain": [
       "array([ 0, 61,  0,  0,  1,  0,  0,  0,  1,  1,  1,  0,  1,  1,  0,  1,  1,\n",
       "        1,  1,  1,  0,  1,  1,  1,  0,  1,  1,  1,  1,  0,  0,  1,  0])"
      ]
     },
     "execution_count": 10,
     "metadata": {},
     "output_type": "execute_result"
    }
   ],
   "source": [
    "X_train.iloc[0].values"
   ]
  },
  {
   "cell_type": "code",
   "execution_count": 11,
   "metadata": {},
   "outputs": [
    {
     "data": {
      "text/plain": [
       "array([[ 0, 61,  0,  0,  1,  0,  0,  0,  1,  1,  1,  0,  1,  1,  0,  1,\n",
       "         1,  1,  1,  1,  0,  1,  1,  1,  0,  1,  1,  1,  1,  0,  0,  1,\n",
       "         0]])"
      ]
     },
     "execution_count": 11,
     "metadata": {},
     "output_type": "execute_result"
    }
   ],
   "source": [
    "X_train.iloc[0].values.reshape(1, -1)"
   ]
  },
  {
   "cell_type": "code",
   "execution_count": 12,
   "metadata": {},
   "outputs": [
    {
     "name": "stdout",
     "output_type": "stream",
     "text": [
      "Correct predict\n",
      "Correct predict\n",
      "Correct predict\n",
      "Correct predict\n",
      "Correct predict\n",
      "Incorrect predict\n",
      "Correct predict\n",
      "Incorrect predict\n",
      "Correct predict\n",
      "Correct predict\n",
      "Correct predict\n",
      "Correct predict\n",
      "Correct predict\n",
      "Correct predict\n",
      "Correct predict\n",
      "Correct predict\n",
      "Correct predict\n",
      "Correct predict\n",
      "Correct predict\n",
      "Correct predict\n",
      "Correct predict\n",
      "Incorrect predict\n",
      "Incorrect predict\n",
      "Correct predict\n",
      "Correct predict\n",
      "Correct predict\n",
      "Correct predict\n",
      "Incorrect predict\n",
      "Correct predict\n",
      "Correct predict\n",
      "Correct predict\n",
      "Correct predict\n",
      "Correct predict\n",
      "Correct predict\n",
      "Correct predict\n",
      "Correct predict\n",
      "Incorrect predict\n",
      "Correct predict\n",
      "Correct predict\n",
      "Correct predict\n",
      "Correct predict\n",
      "Incorrect predict\n",
      "Correct predict\n",
      "Correct predict\n",
      "Incorrect predict\n",
      "Incorrect predict\n",
      "Correct predict\n",
      "Correct predict\n",
      "Correct predict\n",
      "Incorrect predict\n",
      "Correct predict\n",
      "Incorrect predict\n",
      "Correct predict\n",
      "Correct predict\n",
      "Correct predict\n",
      "Correct predict\n",
      "Incorrect predict\n",
      "Correct predict\n",
      "Correct predict\n",
      "Correct predict\n",
      "Correct predict\n",
      "Correct predict\n",
      "Correct predict\n",
      "Correct predict\n",
      "Correct predict\n",
      "Correct predict\n",
      "Correct predict\n",
      "Correct predict\n",
      "Correct predict\n",
      "Correct predict\n",
      "Correct predict\n",
      "Incorrect predict\n",
      "Correct predict\n",
      "Correct predict\n",
      "Correct predict\n",
      "Correct predict\n",
      "Correct predict\n",
      "Incorrect predict\n",
      "Correct predict\n",
      "Correct predict\n",
      "Correct predict\n",
      "Incorrect predict\n",
      "Correct predict\n",
      "Correct predict\n",
      "Correct predict\n",
      "Correct predict\n",
      "Correct predict\n",
      "Incorrect predict\n",
      "Correct predict\n",
      "Correct predict\n",
      "Correct predict\n",
      "Correct predict\n",
      "Correct predict\n",
      "Correct predict\n",
      "Correct predict\n",
      "Correct predict\n",
      "Correct predict\n",
      "Incorrect predict\n",
      "Correct predict\n",
      "Correct predict\n",
      "Incorrect predict\n",
      "Correct predict\n",
      "Correct predict\n",
      "Correct predict\n",
      "Incorrect predict\n",
      "Correct predict\n",
      "Incorrect predict\n",
      "Correct predict\n",
      "Incorrect predict\n",
      "Correct predict\n",
      "Correct predict\n",
      "Correct predict\n",
      "Incorrect predict\n",
      "Correct predict\n",
      "Correct predict\n",
      "Correct predict\n",
      "Correct predict\n",
      "Correct predict\n",
      "Correct predict\n",
      "Correct predict\n",
      "Correct predict\n",
      "Incorrect predict\n",
      "Correct predict\n",
      "Correct predict\n",
      "Correct predict\n",
      "Correct predict\n",
      "Correct predict\n",
      "Correct predict\n",
      "Incorrect predict\n",
      "Correct predict\n",
      "Correct predict\n",
      "Correct predict\n",
      "Correct predict\n",
      "Correct predict\n",
      "Correct predict\n",
      "Correct predict\n",
      "Incorrect predict\n",
      "Incorrect predict\n",
      "Correct predict\n",
      "Incorrect predict\n",
      "Correct predict\n",
      "Correct predict\n",
      "Correct predict\n",
      "Correct predict\n",
      "Correct predict\n",
      "Correct predict\n",
      "Correct predict\n",
      "Correct predict\n",
      "Correct predict\n",
      "Correct predict\n",
      "Correct predict\n",
      "Correct predict\n",
      "Correct predict\n",
      "Correct predict\n",
      "Incorrect predict\n",
      "Correct predict\n",
      "Correct predict\n",
      "Correct predict\n",
      "Correct predict\n",
      "Correct predict\n",
      "Incorrect predict\n",
      "Correct predict\n",
      "Correct predict\n",
      "Correct predict\n",
      "Correct predict\n",
      "Correct predict\n",
      "Correct predict\n",
      "Correct predict\n",
      "Correct predict\n",
      "Correct predict\n",
      "Correct predict\n",
      "Correct predict\n",
      "Correct predict\n",
      "Correct predict\n",
      "Correct predict\n",
      "Correct predict\n",
      "Correct predict\n",
      "Incorrect predict\n",
      "Correct predict\n",
      "Correct predict\n",
      "Correct predict\n",
      "Correct predict\n",
      "Correct predict\n",
      "Correct predict\n",
      "Correct predict\n",
      "Incorrect predict\n",
      "Correct predict\n",
      "Correct predict\n",
      "Correct predict\n",
      "Correct predict\n",
      "Correct predict\n",
      "Correct predict\n",
      "Correct predict\n",
      "Correct predict\n",
      "Incorrect predict\n",
      "Correct predict\n",
      "Correct predict\n",
      "Correct predict\n",
      "Correct predict\n",
      "Correct predict\n"
     ]
    }
   ],
   "source": [
    "for i in range(200):\n",
    "    if bernoulli.predict(X_train.iloc[i].values.reshape(1, -1)) == y_train[i]:\n",
    "        print(\"Correct predict\")\n",
    "    else:\n",
    "        print(\"Incorrect predict\")"
   ]
  },
  {
   "cell_type": "code",
   "execution_count": 13,
   "metadata": {},
   "outputs": [
    {
     "data": {
      "text/plain": [
       "array([1])"
      ]
     },
     "execution_count": 13,
     "metadata": {},
     "output_type": "execute_result"
    }
   ],
   "source": [
    "bernoulli.predict(X_train.iloc[0].values.reshape(1, -1))"
   ]
  },
  {
   "cell_type": "code",
   "execution_count": 14,
   "metadata": {
    "scrolled": true
   },
   "outputs": [
    {
     "data": {
      "text/plain": [
       "array([1])"
      ]
     },
     "execution_count": 14,
     "metadata": {},
     "output_type": "execute_result"
    }
   ],
   "source": [
    "import pickle\n",
    "s = pickle.dumps(bernoulli)\n",
    "saved_bernoulli = pickle.loads(s)\n",
    "saved_bernoulli.predict(X_train.iloc[0].values.reshape(1, -1))"
   ]
  },
  {
   "cell_type": "markdown",
   "metadata": {},
   "source": [
    "## Функция выдачи результата по запросу"
   ]
  },
  {
   "cell_type": "code",
   "execution_count": 16,
   "metadata": {},
   "outputs": [],
   "source": [
    "def predict_diagnosis(answers):\n",
    "    saved_bernoulli = pickle.loads(s)\n",
    "    diagnosis = saved_bernoulli.predict(answers.values.reshape(1, -1))\n",
    "    return diagnosis"
   ]
  },
  {
   "cell_type": "code",
   "execution_count": 19,
   "metadata": {},
   "outputs": [
    {
     "name": "stdout",
     "output_type": "stream",
     "text": [
      "1\n"
     ]
    }
   ],
   "source": [
    "print(int(predict_diagnosis(X_train.iloc[2])))"
   ]
  },
  {
   "cell_type": "code",
   "execution_count": null,
   "metadata": {},
   "outputs": [],
   "source": []
  }
 ],
 "metadata": {
  "kernelspec": {
   "display_name": "Python 3",
   "language": "python",
   "name": "python3"
  },
  "language_info": {
   "codemirror_mode": {
    "name": "ipython",
    "version": 3
   },
   "file_extension": ".py",
   "mimetype": "text/x-python",
   "name": "python",
   "nbconvert_exporter": "python",
   "pygments_lexer": "ipython3",
   "version": "3.7.3"
  }
 },
 "nbformat": 4,
 "nbformat_minor": 2
}
